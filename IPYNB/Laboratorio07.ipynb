{
    "metadata": {
        "kernelspec": {
            "name": "SQL",
            "display_name": "SQL",
            "language": "sql"
        },
        "language_info": {
            "name": "sql",
            "version": ""
        }
    },
    "nbformat_minor": 2,
    "nbformat": 4,
    "cells": [
        {
            "cell_type": "markdown",
            "source": "<h1>Laboratorio N° 07: Monitorización de Base de Datos mediante Auditoría</h1>",
            "metadata": {}
        },
        {
            "cell_type": "markdown",
            "source": "<h2>Ejercicio N° 01: Aplicando auditorias</h2>",
            "metadata": {}
        },
        {
            "cell_type": "markdown",
            "source": "Paso 1: Crear una auditoría del servidor con las siguientes propiedades\r\n- Name: activity_audit\r\n- Queue delay: 1000 ms\r\n- On failure: continue\r\n- Target: file\r\n- Target file path: D:\\Auditoria",
            "metadata": {}
        },
        {
            "cell_type": "code",
            "source": "USE master;\r\nGO\r\nCREATE SERVER AUDIT activity_audit \r\n    TO FILE (FILEPATH='D:\\Auditoria')\r\n    WITH (QUEUE_DELAY = 1000, ON_FAILURE = CONTINUE);\r\nGO\r\n",
            "metadata": {},
            "outputs": [
                {
                    "output_type": "display_data",
                    "data": {
                        "text/html": "Commands completed successfully."
                    },
                    "metadata": {}
                },
                {
                    "output_type": "error",
                    "ename": "",
                    "evalue": "Msg 15530, Level 16, State 1, Line 2\r\nauditoría con el nombre \"activity_audit\" ya existe.",
                    "traceback": []
                },
                {
                    "output_type": "display_data",
                    "data": {
                        "text/html": "Total execution time: 00:00:00.401"
                    },
                    "metadata": {}
                }
            ],
            "execution_count": 22
        },
        {
            "cell_type": "markdown",
            "source": "Paso 2: Activar la auditoria del servidor creada.",
            "metadata": {}
        },
        {
            "cell_type": "code",
            "source": "ALTER SERVER AUDIT activity_audit WITH (STATE = ON);\r\nGO",
            "metadata": {},
            "outputs": [
                {
                    "output_type": "display_data",
                    "data": {
                        "text/html": "Commands completed successfully."
                    },
                    "metadata": {}
                },
                {
                    "output_type": "display_data",
                    "data": {
                        "text/html": "Total execution time: 00:00:00.008"
                    },
                    "metadata": {}
                }
            ],
            "execution_count": 23
        },
        {
            "cell_type": "markdown",
            "source": "Paso 3: Crear una especificación de auditoría del servidor con las siguientes propiedades.\r\n- Name: audit_logins\r\n- Audit: activity_audit\r\n- Action groups: SUCCESSFUL_LOGIN_GROUP",
            "metadata": {}
        },
        {
            "cell_type": "code",
            "source": "CREATE SERVER AUDIT SPECIFICATION audit_logins\r\nFOR SERVER AUDIT activity_audit\r\nADD (SUCCESSFUL_LOGIN_GROUP)\r\nWITH (STATE = ON);\r\nGO",
            "metadata": {},
            "outputs": [
                {
                    "output_type": "error",
                    "ename": "",
                    "evalue": "Msg 15530, Level 16, State 1, Line 1\r\nespecificación de auditoría con el nombre \"audit_logins\" ya existe.",
                    "traceback": []
                },
                {
                    "output_type": "display_data",
                    "data": {
                        "text/html": "Total execution time: 00:00:00.001"
                    },
                    "metadata": {}
                }
            ],
            "execution_count": 24
        },
        {
            "cell_type": "markdown",
            "source": "Paso 4: Activar la especificación de auditoria del servidor creada.",
            "metadata": {}
        },
        {
            "cell_type": "code",
            "source": "ALTER SERVER AUDIT SPECIFICATION audit_logins WITH (STATE = ON);\r\nGO",
            "metadata": {},
            "outputs": [
                {
                    "output_type": "display_data",
                    "data": {
                        "text/html": "Commands completed successfully."
                    },
                    "metadata": {}
                },
                {
                    "output_type": "display_data",
                    "data": {
                        "text/html": "Total execution time: 00:00:00.005"
                    },
                    "metadata": {}
                }
            ],
            "execution_count": 25
        },
        {
            "cell_type": "markdown",
            "source": "Paso 5: Crear una especificación de auditoría de base de datos en la base de datos salesapp1 con las siguientes propiedades:\r\n- Name: employees_change_audit\r\n- Audit: activity_audit\r\n- Actions:\r\n    - INSERT on HR.Employees by public\r\n    - UPDATE on HR.Employees by public",
            "metadata": {}
        },
        {
            "cell_type": "code",
            "source": "USE salesapp1;\r\nGO\r\nCREATE DATABASE AUDIT SPECIFICATION employees_change_audit\r\nFOR SERVER AUDIT activity_audit\r\nADD (INSERT,UPDATE ON DATABASE::salesapp1 BY public),\r\nADD (SELECT ON SCHEMA::HR BY public)\r\nWITH (STATE = ON);\r\nGO",
            "metadata": {},
            "outputs": [
                {
                    "output_type": "display_data",
                    "data": {
                        "text/html": "Commands completed successfully."
                    },
                    "metadata": {}
                },
                {
                    "output_type": "error",
                    "ename": "",
                    "evalue": "Msg 15530, Level 16, State 1, Line 2\r\nespecificación de auditoría con el nombre \"employees_change_audit\" ya existe.",
                    "traceback": []
                },
                {
                    "output_type": "display_data",
                    "data": {
                        "text/html": "Total execution time: 00:00:00.005"
                    },
                    "metadata": {}
                }
            ],
            "execution_count": 26
        },
        {
            "cell_type": "markdown",
            "source": "Paso 6: Activar la especificación de auditoría de base de datos creada.",
            "metadata": {}
        },
        {
            "cell_type": "code",
            "source": "",
            "metadata": {},
            "outputs": [
                {
                    "output_type": "error",
                    "ename": "",
                    "evalue": "Msg 33073, Level 16, State 1, Line 1\r\nNo se encuentra el elemento especificación de auditoría 'employees_change_audit' o no tiene los permisos necesarios.",
                    "traceback": []
                },
                {
                    "output_type": "display_data",
                    "data": {
                        "text/html": "Total execution time: 00:00:00.001"
                    },
                    "metadata": {}
                }
            ],
            "execution_count": 5
        },
        {
            "cell_type": "markdown",
            "source": "Paso 7: Ejecutar el siguiente código",
            "metadata": {}
        },
        {
            "cell_type": "code",
            "source": "USE salesapp1;\r\n\r\nUPDATE HR.Employees SET mgrid = 3 WHERE empid = 9;\r\n\r\nINSERT HR.Employees\r\n(lastname, firstname, title, titleofcourtesy, birthdate, hiredate, address, city, region, postalcode, country, phone, mgrid)\r\nSELECT lastname, firstname, title, titleofcourtesy, birthdate, hiredate, address, city, region, postalcode, country, phone, mgrid\r\nFROM HR.Employees WHERE empid = 9;\r\n\r\nEXECUTE AS USER = 'marketing_user'\r\nUPDATE HR.Employees SET mgrid = 5 WHERE empid = 9;\r\nREVERT\r\nGO",
            "metadata": {},
            "outputs": [
                {
                    "output_type": "display_data",
                    "data": {
                        "text/html": "(1 row affected)"
                    },
                    "metadata": {}
                },
                {
                    "output_type": "display_data",
                    "data": {
                        "text/html": "(1 row affected)"
                    },
                    "metadata": {}
                },
                {
                    "output_type": "error",
                    "ename": "",
                    "evalue": "Msg 15517, Level 16, State 1, Line 10\r\nNo se puede ejecutar como la entidad de seguridad de base de datos porque la entidad \"marketing_user\" no existe, este tipo de entidad de seguridad no se puede suplantar o el usuario no tiene permiso.",
                    "traceback": []
                },
                {
                    "output_type": "display_data",
                    "data": {
                        "text/html": "Total execution time: 00:00:00.012"
                    },
                    "metadata": {}
                }
            ],
            "execution_count": 27
        },
        {
            "cell_type": "markdown",
            "source": "Paso 8: Escribir una consulta utilizando la función de sistema sys.fn_get_audit_file para devolver todos los datos de auditoría desde los archivos en D:\\Auditoria. Filtrar los datos para que solo la actividad relacionada a la sesión actual sea visualizada.",
            "metadata": {}
        },
        {
            "cell_type": "code",
            "source": "",
            "metadata": {},
            "outputs": [],
            "execution_count": 0
        },
        {
            "cell_type": "markdown",
            "source": "Paso 8: Desahbilitar la auditoría de servidor activity_audit.",
            "metadata": {}
        },
        {
            "cell_type": "code",
            "source": "",
            "metadata": {},
            "outputs": [],
            "execution_count": 0
        }
    ]
}